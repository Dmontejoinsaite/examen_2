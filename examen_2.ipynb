{
 "cells": [
  {
   "cell_type": "markdown",
   "metadata": {},
   "source": [
    "# Examen 2"
   ]
  },
  {
   "cell_type": "markdown",
   "metadata": {},
   "source": [
    "Equipo 1:\n",
    "\n",
    "* Bautista Bautista Cristian\n",
    "* Madariaga Dominguez Alejandra\n",
    "* Montejo Isidoro David Emmanuel.\n",
    "* "
   ]
  },
  {
   "cell_type": "markdown",
   "metadata": {},
   "source": [
    "# Objetivos:\n",
    "\n",
    "* Predicción de popularidad de canciones\n",
    "* Recomendación personalizada de canciones.\n",
    "* Clasificación automatica de generos musicales."
   ]
  },
  {
   "cell_type": "markdown",
   "metadata": {},
   "source": [
    "* Unidad muestral por objetivo.\n",
    "um_1: song_play_counts_df, summary_df, audio_features_df, song_lyrics_df, song_genres_df\n",
    "\n",
    "* Canciones por usuario.\n",
    "um_2: song_play_counts_df, summary_df, audio_features_df, song_lyrics_df, song_genres_df\n",
    "\n",
    "\n",
    "um_3: song_play_counts_df, summary_df, audio_features_df, song_genres_df, song_lyrics_df"
   ]
  },
  {
   "cell_type": "markdown",
   "metadata": {},
   "source": [
    "## Dependencias."
   ]
  },
  {
   "cell_type": "code",
   "execution_count": 1,
   "metadata": {},
   "outputs": [],
   "source": [
    "import pandas as pd\n",
    "import numpy as np\n",
    "\n",
    "import numpy as np\n",
    "import pandas as pd\n",
    "from sklearn.impute import SimpleImputer\n",
    "from sklearn.metrics import accuracy_score\n",
    "from sklearn.preprocessing import MinMaxScaler\n",
    "from sklearn.feature_extraction.text import CountVectorizer\n",
    "from sklearn.model_selection import GridSearchCV, RandomizedSearchCV\n",
    "\n",
    "# Importar regresión logística.\n",
    "from sklearn.linear_model import LogisticRegression\n",
    "\n",
    "\n",
    "from sklearn.model_selection import train_test_split, cross_val_score\n",
    "# from sklearn.naive_bayes import MultinomialNB, GaussianNB, BernoulliNB\n",
    "# from sklearn.neighbors import KNeighborsClassifier, KNeighborsRegressor\n",
    "\n",
    "\n",
    "import nltk\n",
    "from nltk.corpus import stopwords\n",
    "\n",
    "import joblib\n",
    "\n"
   ]
  },
  {
   "cell_type": "code",
   "execution_count": null,
   "metadata": {},
   "outputs": [],
   "source": []
  },
  {
   "cell_type": "markdown",
   "metadata": {},
   "source": [
    "## Funciones."
   ]
  },
  {
   "cell_type": "code",
   "execution_count": null,
   "metadata": {},
   "outputs": [],
   "source": []
  },
  {
   "cell_type": "code",
   "execution_count": null,
   "metadata": {},
   "outputs": [],
   "source": []
  },
  {
   "cell_type": "markdown",
   "metadata": {},
   "source": [
    "## Carga de datos"
   ]
  },
  {
   "cell_type": "code",
   "execution_count": 2,
   "metadata": {},
   "outputs": [
    {
     "name": "stdout",
     "output_type": "stream",
     "text": [
      "audio_features_df (19664, 23)\n",
      "song_play_counts_df (1517641, 3)\n",
      "artist_terms_df (12947, 2)\n",
      "song_genres_df (8416, 2)\n",
      "artist_location_df (13850, 5)\n",
      "song_lyrics_df (6803, 101)\n",
      "artist_tags_df (15375, 2)\n",
      "summary_df (20000, 20)\n"
     ]
    }
   ],
   "source": [
    "audio_features_df = pd.read_csv('/home/david/Documents/DIPLO/modulo_2/Examen/Examen2/datos/audio_features.csv')\n",
    "print('audio_features_df', audio_features_df.shape)\n",
    "\n",
    "song_play_counts_df = pd.read_csv('/home/david/Documents/DIPLO/modulo_2/Examen/Examen2/datos/song_play_count.csv')\n",
    "print('song_play_counts_df', song_play_counts_df.shape)\n",
    "\n",
    "artist_terms_df = pd.read_csv('/home/david/Documents/DIPLO/modulo_2/Examen/Examen2/datos/artist_terms.csv')\n",
    "print('artist_terms_df', artist_terms_df.shape)\n",
    "\n",
    "song_genres_df = pd.read_csv('/home/david/Documents/DIPLO/modulo_2/Examen/Examen2/datos/song_genres.csv')\n",
    "print('song_genres_df', song_genres_df.shape)\n",
    "\n",
    "artist_location_df = pd.read_csv('/home/david/Documents/DIPLO/modulo_2/Examen/Examen2/datos/artist_location.csv')\n",
    "print('artist_location_df', artist_location_df.shape)\n",
    "\n",
    "song_lyrics_df = pd.read_csv('/home/david/Documents/DIPLO/modulo_2/Examen/Examen2/datos/song_lyrics.csv')\n",
    "print('song_lyrics_df', song_lyrics_df.shape)\n",
    "\n",
    "artist_tags_df = pd.read_csv('/home/david/Documents/DIPLO/modulo_2/Examen/Examen2/datos/artist_tags.csv')\n",
    "print('artist_tags_df', artist_tags_df.shape)\n",
    "\n",
    "summary_df = pd.read_csv('/home/david/Documents/DIPLO/modulo_2/Examen/Examen2/datos/summary.csv')\n",
    "print('summary_df', summary_df.shape)\n",
    "\n"
   ]
  },
  {
   "cell_type": "markdown",
   "metadata": {},
   "source": [
    "### Summary"
   ]
  },
  {
   "cell_type": "code",
   "execution_count": 3,
   "metadata": {},
   "outputs": [
    {
     "data": {
      "text/plain": [
       "(20000, 20)"
      ]
     },
     "execution_count": 3,
     "metadata": {},
     "output_type": "execute_result"
    }
   ],
   "source": [
    "summary_df.shape"
   ]
  },
  {
   "cell_type": "code",
   "execution_count": 4,
   "metadata": {},
   "outputs": [
    {
     "name": "stdout",
     "output_type": "stream",
     "text": [
      "(20000, 20)\n"
     ]
    }
   ],
   "source": [
    "df = summary_df.copy()\n",
    "print(df.shape)"
   ]
  },
  {
   "cell_type": "code",
   "execution_count": 5,
   "metadata": {},
   "outputs": [
    {
     "data": {
      "text/html": [
       "<div>\n",
       "<style scoped>\n",
       "    .dataframe tbody tr th:only-of-type {\n",
       "        vertical-align: middle;\n",
       "    }\n",
       "\n",
       "    .dataframe tbody tr th {\n",
       "        vertical-align: top;\n",
       "    }\n",
       "\n",
       "    .dataframe thead th {\n",
       "        text-align: right;\n",
       "    }\n",
       "</style>\n",
       "<table border=\"1\" class=\"dataframe\">\n",
       "  <thead>\n",
       "    <tr style=\"text-align: right;\">\n",
       "      <th></th>\n",
       "      <th>track_id</th>\n",
       "      <th>a</th>\n",
       "      <th>all</th>\n",
       "      <th>am</th>\n",
       "      <th>and</th>\n",
       "      <th>are</th>\n",
       "      <th>as</th>\n",
       "      <th>at</th>\n",
       "      <th>away</th>\n",
       "      <th>babi</th>\n",
       "      <th>...</th>\n",
       "      <th>when</th>\n",
       "      <th>where</th>\n",
       "      <th>who</th>\n",
       "      <th>will</th>\n",
       "      <th>with</th>\n",
       "      <th>would</th>\n",
       "      <th>y</th>\n",
       "      <th>yeah</th>\n",
       "      <th>you</th>\n",
       "      <th>your</th>\n",
       "    </tr>\n",
       "  </thead>\n",
       "  <tbody>\n",
       "    <tr>\n",
       "      <th>0</th>\n",
       "      <td>TRSZDWT128F4282FF8</td>\n",
       "      <td>2.0</td>\n",
       "      <td>1.0</td>\n",
       "      <td>0.0</td>\n",
       "      <td>2.0</td>\n",
       "      <td>1.0</td>\n",
       "      <td>1.0</td>\n",
       "      <td>0.0</td>\n",
       "      <td>0.0</td>\n",
       "      <td>0.0</td>\n",
       "      <td>...</td>\n",
       "      <td>0.0</td>\n",
       "      <td>4.0</td>\n",
       "      <td>0.0</td>\n",
       "      <td>2.0</td>\n",
       "      <td>0.0</td>\n",
       "      <td>0.0</td>\n",
       "      <td>0.0</td>\n",
       "      <td>0.0</td>\n",
       "      <td>0.0</td>\n",
       "      <td>0.0</td>\n",
       "    </tr>\n",
       "  </tbody>\n",
       "</table>\n",
       "<p>1 rows × 101 columns</p>\n",
       "</div>"
      ],
      "text/plain": [
       "             track_id    a  all   am  and  are   as   at  away  babi  ...  \\\n",
       "0  TRSZDWT128F4282FF8  2.0  1.0  0.0  2.0  1.0  1.0  0.0   0.0   0.0  ...   \n",
       "\n",
       "   when  where  who  will  with  would    y  yeah  you  your  \n",
       "0   0.0    4.0  0.0   2.0   0.0    0.0  0.0   0.0  0.0   0.0  \n",
       "\n",
       "[1 rows x 101 columns]"
      ]
     },
     "execution_count": 5,
     "metadata": {},
     "output_type": "execute_result"
    }
   ],
   "source": [
    "song_lyrics_df.head(1)"
   ]
  },
  {
   "cell_type": "code",
   "execution_count": 6,
   "metadata": {},
   "outputs": [
    {
     "data": {
      "text/plain": [
       "20000"
      ]
     },
     "execution_count": 6,
     "metadata": {},
     "output_type": "execute_result"
    }
   ],
   "source": [
    "df['track_id'].nunique()\n",
    "\n",
    "\n"
   ]
  },
  {
   "cell_type": "code",
   "execution_count": 7,
   "metadata": {},
   "outputs": [
    {
     "data": {
      "text/plain": [
       "19997"
      ]
     },
     "execution_count": 7,
     "metadata": {},
     "output_type": "execute_result"
    }
   ],
   "source": [
    "df['song_id'].nunique()"
   ]
  },
  {
   "cell_type": "code",
   "execution_count": 8,
   "metadata": {},
   "outputs": [
    {
     "name": "stdout",
     "output_type": "stream",
     "text": [
      "(19997, 20)\n"
     ]
    }
   ],
   "source": [
    "registros_eliminar = df[df['song_id'].duplicated()]['track_id'].tolist()\n",
    "df = df[~df['track_id'].isin(registros_eliminar)]\n",
    "print(df.shape)"
   ]
  },
  {
   "cell_type": "code",
   "execution_count": 9,
   "metadata": {},
   "outputs": [
    {
     "data": {
      "text/html": [
       "<div>\n",
       "<style scoped>\n",
       "    .dataframe tbody tr th:only-of-type {\n",
       "        vertical-align: middle;\n",
       "    }\n",
       "\n",
       "    .dataframe tbody tr th {\n",
       "        vertical-align: top;\n",
       "    }\n",
       "\n",
       "    .dataframe thead th {\n",
       "        text-align: right;\n",
       "    }\n",
       "</style>\n",
       "<table border=\"1\" class=\"dataframe\">\n",
       "  <thead>\n",
       "    <tr style=\"text-align: right;\">\n",
       "      <th></th>\n",
       "      <th>track_id</th>\n",
       "      <th>song_id</th>\n",
       "      <th>mode_confidence</th>\n",
       "      <th>end_of_fade_in</th>\n",
       "      <th>key_confidence</th>\n",
       "      <th>energy</th>\n",
       "      <th>year</th>\n",
       "      <th>duration</th>\n",
       "      <th>time_signature_confidence</th>\n",
       "      <th>title</th>\n",
       "      <th>start_of_fade_out</th>\n",
       "      <th>analysis_sample_rate</th>\n",
       "      <th>time_signature</th>\n",
       "      <th>tempo</th>\n",
       "      <th>artist_id</th>\n",
       "      <th>artist_name</th>\n",
       "      <th>artist_hotttnesss</th>\n",
       "      <th>key</th>\n",
       "      <th>release</th>\n",
       "      <th>loudness</th>\n",
       "    </tr>\n",
       "  </thead>\n",
       "  <tbody>\n",
       "    <tr>\n",
       "      <th>0</th>\n",
       "      <td>TRJPTGQ128F42A2187</td>\n",
       "      <td>SOIYHHS12A8C13E7B5</td>\n",
       "      <td>0.452</td>\n",
       "      <td>0.000</td>\n",
       "      <td>0.556</td>\n",
       "      <td>0.0</td>\n",
       "      <td>2007</td>\n",
       "      <td>141.66159</td>\n",
       "      <td>1.000</td>\n",
       "      <td>Don't Cry</td>\n",
       "      <td>141.662</td>\n",
       "      <td>22050</td>\n",
       "      <td>4</td>\n",
       "      <td>103.085</td>\n",
       "      <td>ARJ5FD21187FB43F12</td>\n",
       "      <td>Mavado</td>\n",
       "      <td>0.520784</td>\n",
       "      <td>0</td>\n",
       "      <td>Gangsta For Life: The Symphony Of David Brooks</td>\n",
       "      <td>-5.816</td>\n",
       "    </tr>\n",
       "    <tr>\n",
       "      <th>1</th>\n",
       "      <td>TRZWFET128F425BF9E</td>\n",
       "      <td>SONEJET12A8C137D3E</td>\n",
       "      <td>0.669</td>\n",
       "      <td>0.000</td>\n",
       "      <td>0.679</td>\n",
       "      <td>0.0</td>\n",
       "      <td>2005</td>\n",
       "      <td>354.69016</td>\n",
       "      <td>0.529</td>\n",
       "      <td>Gypsy Funeral: Hark! From The Tombs Of Doleful...</td>\n",
       "      <td>348.253</td>\n",
       "      <td>22050</td>\n",
       "      <td>1</td>\n",
       "      <td>123.153</td>\n",
       "      <td>ARH3CTU1187FB365C7</td>\n",
       "      <td>Miasma &amp; The Carousel Of Headless Horses</td>\n",
       "      <td>0.346908</td>\n",
       "      <td>9</td>\n",
       "      <td>Perils</td>\n",
       "      <td>-11.137</td>\n",
       "    </tr>\n",
       "    <tr>\n",
       "      <th>2</th>\n",
       "      <td>TRNTAMF128F14618CA</td>\n",
       "      <td>SOPAGVA12AF729F018</td>\n",
       "      <td>0.551</td>\n",
       "      <td>0.000</td>\n",
       "      <td>0.672</td>\n",
       "      <td>0.0</td>\n",
       "      <td>2001</td>\n",
       "      <td>338.44200</td>\n",
       "      <td>1.000</td>\n",
       "      <td>Trade Money</td>\n",
       "      <td>327.529</td>\n",
       "      <td>22050</td>\n",
       "      <td>4</td>\n",
       "      <td>162.540</td>\n",
       "      <td>AR0CANF1187B9AF35F</td>\n",
       "      <td>Dilated Peoples</td>\n",
       "      <td>0.457841</td>\n",
       "      <td>7</td>\n",
       "      <td>Expansion Team</td>\n",
       "      <td>-5.199</td>\n",
       "    </tr>\n",
       "    <tr>\n",
       "      <th>3</th>\n",
       "      <td>TRALQGQ128F427E682</td>\n",
       "      <td>SODZLJT12A8C13BD4C</td>\n",
       "      <td>0.354</td>\n",
       "      <td>0.000</td>\n",
       "      <td>0.378</td>\n",
       "      <td>0.0</td>\n",
       "      <td>2004</td>\n",
       "      <td>202.37016</td>\n",
       "      <td>1.000</td>\n",
       "      <td>Me Han Vuelto Loca</td>\n",
       "      <td>200.220</td>\n",
       "      <td>22050</td>\n",
       "      <td>4</td>\n",
       "      <td>101.978</td>\n",
       "      <td>ARKE6XC1187B991839</td>\n",
       "      <td>Merche</td>\n",
       "      <td>0.406329</td>\n",
       "      <td>6</td>\n",
       "      <td>Autentica</td>\n",
       "      <td>-2.756</td>\n",
       "    </tr>\n",
       "    <tr>\n",
       "      <th>4</th>\n",
       "      <td>TRLOUXS128F92D963F</td>\n",
       "      <td>SOXWPNT12AAF3B270E</td>\n",
       "      <td>0.761</td>\n",
       "      <td>0.000</td>\n",
       "      <td>0.615</td>\n",
       "      <td>0.0</td>\n",
       "      <td>2005</td>\n",
       "      <td>315.58485</td>\n",
       "      <td>0.719</td>\n",
       "      <td>Riders On The Storm</td>\n",
       "      <td>288.142</td>\n",
       "      <td>22050</td>\n",
       "      <td>4</td>\n",
       "      <td>108.992</td>\n",
       "      <td>AR2TT8P1187B9B624D</td>\n",
       "      <td>O'2L</td>\n",
       "      <td>0.291499</td>\n",
       "      <td>9</td>\n",
       "      <td>Doyle's Brunch</td>\n",
       "      <td>-8.825</td>\n",
       "    </tr>\n",
       "    <tr>\n",
       "      <th>...</th>\n",
       "      <td>...</td>\n",
       "      <td>...</td>\n",
       "      <td>...</td>\n",
       "      <td>...</td>\n",
       "      <td>...</td>\n",
       "      <td>...</td>\n",
       "      <td>...</td>\n",
       "      <td>...</td>\n",
       "      <td>...</td>\n",
       "      <td>...</td>\n",
       "      <td>...</td>\n",
       "      <td>...</td>\n",
       "      <td>...</td>\n",
       "      <td>...</td>\n",
       "      <td>...</td>\n",
       "      <td>...</td>\n",
       "      <td>...</td>\n",
       "      <td>...</td>\n",
       "      <td>...</td>\n",
       "      <td>...</td>\n",
       "    </tr>\n",
       "    <tr>\n",
       "      <th>19995</th>\n",
       "      <td>TRGWRQD128F4298D89</td>\n",
       "      <td>SOMYXHV12A8C13BA11</td>\n",
       "      <td>0.355</td>\n",
       "      <td>0.496</td>\n",
       "      <td>0.032</td>\n",
       "      <td>0.0</td>\n",
       "      <td>1998</td>\n",
       "      <td>209.16200</td>\n",
       "      <td>0.260</td>\n",
       "      <td>arm (Album Version)</td>\n",
       "      <td>206.495</td>\n",
       "      <td>22050</td>\n",
       "      <td>4</td>\n",
       "      <td>90.024</td>\n",
       "      <td>AR4CO001187FB4731E</td>\n",
       "      <td>the feelers</td>\n",
       "      <td>0.486442</td>\n",
       "      <td>11</td>\n",
       "      <td>Supersystem</td>\n",
       "      <td>-6.153</td>\n",
       "    </tr>\n",
       "    <tr>\n",
       "      <th>19996</th>\n",
       "      <td>TRIPSRA128F931DBAA</td>\n",
       "      <td>SOHOYEM12AB017F833</td>\n",
       "      <td>0.407</td>\n",
       "      <td>0.000</td>\n",
       "      <td>0.353</td>\n",
       "      <td>0.0</td>\n",
       "      <td>2007</td>\n",
       "      <td>90.95791</td>\n",
       "      <td>0.000</td>\n",
       "      <td>Raw Diamond</td>\n",
       "      <td>90.958</td>\n",
       "      <td>22050</td>\n",
       "      <td>4</td>\n",
       "      <td>165.282</td>\n",
       "      <td>ARVRTDI1187B99D797</td>\n",
       "      <td>Baby Grandmothers</td>\n",
       "      <td>0.343689</td>\n",
       "      <td>0</td>\n",
       "      <td>Baby Grandmothers</td>\n",
       "      <td>-5.540</td>\n",
       "    </tr>\n",
       "    <tr>\n",
       "      <th>19997</th>\n",
       "      <td>TRSYCMI12903CE007B</td>\n",
       "      <td>SOYSKTB12A58A7B126</td>\n",
       "      <td>0.526</td>\n",
       "      <td>0.000</td>\n",
       "      <td>0.730</td>\n",
       "      <td>0.0</td>\n",
       "      <td>2005</td>\n",
       "      <td>154.67057</td>\n",
       "      <td>0.542</td>\n",
       "      <td>Boom Boom Boom East Blues</td>\n",
       "      <td>154.671</td>\n",
       "      <td>22050</td>\n",
       "      <td>4</td>\n",
       "      <td>190.921</td>\n",
       "      <td>ARCWZP81187FB40E42</td>\n",
       "      <td>Hillstomp</td>\n",
       "      <td>0.425443</td>\n",
       "      <td>2</td>\n",
       "      <td>The Woman That Ended The World</td>\n",
       "      <td>-8.800</td>\n",
       "    </tr>\n",
       "    <tr>\n",
       "      <th>19998</th>\n",
       "      <td>TRKVYMQ128F9303EB5</td>\n",
       "      <td>SODWMOZ12A8C13D1CE</td>\n",
       "      <td>0.409</td>\n",
       "      <td>2.682</td>\n",
       "      <td>0.749</td>\n",
       "      <td>0.0</td>\n",
       "      <td>2001</td>\n",
       "      <td>191.29424</td>\n",
       "      <td>0.767</td>\n",
       "      <td>Serenata</td>\n",
       "      <td>177.308</td>\n",
       "      <td>22050</td>\n",
       "      <td>5</td>\n",
       "      <td>139.339</td>\n",
       "      <td>ARJMB691187FB54124</td>\n",
       "      <td>Luciano Pavarotti</td>\n",
       "      <td>0.496486</td>\n",
       "      <td>7</td>\n",
       "      <td>A Song to Remember</td>\n",
       "      <td>-17.083</td>\n",
       "    </tr>\n",
       "    <tr>\n",
       "      <th>19999</th>\n",
       "      <td>TRDJLGW128F42205DA</td>\n",
       "      <td>SOUDPCL12A81C20980</td>\n",
       "      <td>0.000</td>\n",
       "      <td>0.000</td>\n",
       "      <td>0.000</td>\n",
       "      <td>0.0</td>\n",
       "      <td>1997</td>\n",
       "      <td>228.64934</td>\n",
       "      <td>0.747</td>\n",
       "      <td>Downstone Blues</td>\n",
       "      <td>225.414</td>\n",
       "      <td>22050</td>\n",
       "      <td>4</td>\n",
       "      <td>97.103</td>\n",
       "      <td>AR6UED31187B98D9F1</td>\n",
       "      <td>Five Horse Johnson</td>\n",
       "      <td>0.365829</td>\n",
       "      <td>4</td>\n",
       "      <td>Double Down</td>\n",
       "      <td>-11.157</td>\n",
       "    </tr>\n",
       "  </tbody>\n",
       "</table>\n",
       "<p>19997 rows × 20 columns</p>\n",
       "</div>"
      ],
      "text/plain": [
       "                 track_id             song_id  mode_confidence  \\\n",
       "0      TRJPTGQ128F42A2187  SOIYHHS12A8C13E7B5            0.452   \n",
       "1      TRZWFET128F425BF9E  SONEJET12A8C137D3E            0.669   \n",
       "2      TRNTAMF128F14618CA  SOPAGVA12AF729F018            0.551   \n",
       "3      TRALQGQ128F427E682  SODZLJT12A8C13BD4C            0.354   \n",
       "4      TRLOUXS128F92D963F  SOXWPNT12AAF3B270E            0.761   \n",
       "...                   ...                 ...              ...   \n",
       "19995  TRGWRQD128F4298D89  SOMYXHV12A8C13BA11            0.355   \n",
       "19996  TRIPSRA128F931DBAA  SOHOYEM12AB017F833            0.407   \n",
       "19997  TRSYCMI12903CE007B  SOYSKTB12A58A7B126            0.526   \n",
       "19998  TRKVYMQ128F9303EB5  SODWMOZ12A8C13D1CE            0.409   \n",
       "19999  TRDJLGW128F42205DA  SOUDPCL12A81C20980            0.000   \n",
       "\n",
       "       end_of_fade_in  key_confidence  energy  year   duration  \\\n",
       "0               0.000           0.556     0.0  2007  141.66159   \n",
       "1               0.000           0.679     0.0  2005  354.69016   \n",
       "2               0.000           0.672     0.0  2001  338.44200   \n",
       "3               0.000           0.378     0.0  2004  202.37016   \n",
       "4               0.000           0.615     0.0  2005  315.58485   \n",
       "...               ...             ...     ...   ...        ...   \n",
       "19995           0.496           0.032     0.0  1998  209.16200   \n",
       "19996           0.000           0.353     0.0  2007   90.95791   \n",
       "19997           0.000           0.730     0.0  2005  154.67057   \n",
       "19998           2.682           0.749     0.0  2001  191.29424   \n",
       "19999           0.000           0.000     0.0  1997  228.64934   \n",
       "\n",
       "       time_signature_confidence  \\\n",
       "0                          1.000   \n",
       "1                          0.529   \n",
       "2                          1.000   \n",
       "3                          1.000   \n",
       "4                          0.719   \n",
       "...                          ...   \n",
       "19995                      0.260   \n",
       "19996                      0.000   \n",
       "19997                      0.542   \n",
       "19998                      0.767   \n",
       "19999                      0.747   \n",
       "\n",
       "                                                   title  start_of_fade_out  \\\n",
       "0                                              Don't Cry            141.662   \n",
       "1      Gypsy Funeral: Hark! From The Tombs Of Doleful...            348.253   \n",
       "2                                            Trade Money            327.529   \n",
       "3                                     Me Han Vuelto Loca            200.220   \n",
       "4                                    Riders On The Storm            288.142   \n",
       "...                                                  ...                ...   \n",
       "19995                                arm (Album Version)            206.495   \n",
       "19996                                        Raw Diamond             90.958   \n",
       "19997                          Boom Boom Boom East Blues            154.671   \n",
       "19998                                           Serenata            177.308   \n",
       "19999                                    Downstone Blues            225.414   \n",
       "\n",
       "       analysis_sample_rate  time_signature    tempo           artist_id  \\\n",
       "0                     22050               4  103.085  ARJ5FD21187FB43F12   \n",
       "1                     22050               1  123.153  ARH3CTU1187FB365C7   \n",
       "2                     22050               4  162.540  AR0CANF1187B9AF35F   \n",
       "3                     22050               4  101.978  ARKE6XC1187B991839   \n",
       "4                     22050               4  108.992  AR2TT8P1187B9B624D   \n",
       "...                     ...             ...      ...                 ...   \n",
       "19995                 22050               4   90.024  AR4CO001187FB4731E   \n",
       "19996                 22050               4  165.282  ARVRTDI1187B99D797   \n",
       "19997                 22050               4  190.921  ARCWZP81187FB40E42   \n",
       "19998                 22050               5  139.339  ARJMB691187FB54124   \n",
       "19999                 22050               4   97.103  AR6UED31187B98D9F1   \n",
       "\n",
       "                                    artist_name  artist_hotttnesss  key  \\\n",
       "0                                        Mavado           0.520784    0   \n",
       "1      Miasma & The Carousel Of Headless Horses           0.346908    9   \n",
       "2                               Dilated Peoples           0.457841    7   \n",
       "3                                        Merche           0.406329    6   \n",
       "4                                          O'2L           0.291499    9   \n",
       "...                                         ...                ...  ...   \n",
       "19995                               the feelers           0.486442   11   \n",
       "19996                         Baby Grandmothers           0.343689    0   \n",
       "19997                                 Hillstomp           0.425443    2   \n",
       "19998                         Luciano Pavarotti           0.496486    7   \n",
       "19999                        Five Horse Johnson           0.365829    4   \n",
       "\n",
       "                                              release  loudness  \n",
       "0      Gangsta For Life: The Symphony Of David Brooks    -5.816  \n",
       "1                                              Perils   -11.137  \n",
       "2                                      Expansion Team    -5.199  \n",
       "3                                           Autentica    -2.756  \n",
       "4                                      Doyle's Brunch    -8.825  \n",
       "...                                               ...       ...  \n",
       "19995                                     Supersystem    -6.153  \n",
       "19996                               Baby Grandmothers    -5.540  \n",
       "19997                  The Woman That Ended The World    -8.800  \n",
       "19998                              A Song to Remember   -17.083  \n",
       "19999                                     Double Down   -11.157  \n",
       "\n",
       "[19997 rows x 20 columns]"
      ]
     },
     "execution_count": 9,
     "metadata": {},
     "output_type": "execute_result"
    }
   ],
   "source": [
    "df"
   ]
  },
  {
   "cell_type": "markdown",
   "metadata": {},
   "source": [
    "### soung_play_counts_df"
   ]
  },
  {
   "cell_type": "code",
   "execution_count": 10,
   "metadata": {},
   "outputs": [
    {
     "name": "stdout",
     "output_type": "stream",
     "text": [
      "(1517641, 3)\n"
     ]
    },
    {
     "data": {
      "text/html": [
       "<div>\n",
       "<style scoped>\n",
       "    .dataframe tbody tr th:only-of-type {\n",
       "        vertical-align: middle;\n",
       "    }\n",
       "\n",
       "    .dataframe tbody tr th {\n",
       "        vertical-align: top;\n",
       "    }\n",
       "\n",
       "    .dataframe thead th {\n",
       "        text-align: right;\n",
       "    }\n",
       "</style>\n",
       "<table border=\"1\" class=\"dataframe\">\n",
       "  <thead>\n",
       "    <tr style=\"text-align: right;\">\n",
       "      <th></th>\n",
       "      <th>user_id</th>\n",
       "      <th>song_id</th>\n",
       "      <th>play_count</th>\n",
       "    </tr>\n",
       "  </thead>\n",
       "  <tbody>\n",
       "    <tr>\n",
       "      <th>0</th>\n",
       "      <td>60187</td>\n",
       "      <td>SOYMXMF12A6D4FCDA2</td>\n",
       "      <td>1</td>\n",
       "    </tr>\n",
       "  </tbody>\n",
       "</table>\n",
       "</div>"
      ],
      "text/plain": [
       "   user_id             song_id  play_count\n",
       "0    60187  SOYMXMF12A6D4FCDA2           1"
      ]
     },
     "execution_count": 10,
     "metadata": {},
     "output_type": "execute_result"
    }
   ],
   "source": [
    "print(song_play_counts_df.shape)\n",
    "song_play_counts_df.head(1)"
   ]
  },
  {
   "cell_type": "code",
   "execution_count": 11,
   "metadata": {},
   "outputs": [
    {
     "data": {
      "text/plain": [
       "10370"
      ]
     },
     "execution_count": 11,
     "metadata": {},
     "output_type": "execute_result"
    }
   ],
   "source": [
    "song_play_counts_df['song_id'].nunique()"
   ]
  },
  {
   "cell_type": "code",
   "execution_count": 12,
   "metadata": {},
   "outputs": [
    {
     "data": {
      "text/html": [
       "<div>\n",
       "<style scoped>\n",
       "    .dataframe tbody tr th:only-of-type {\n",
       "        vertical-align: middle;\n",
       "    }\n",
       "\n",
       "    .dataframe tbody tr th {\n",
       "        vertical-align: top;\n",
       "    }\n",
       "\n",
       "    .dataframe thead th {\n",
       "        text-align: right;\n",
       "    }\n",
       "</style>\n",
       "<table border=\"1\" class=\"dataframe\">\n",
       "  <thead>\n",
       "    <tr style=\"text-align: right;\">\n",
       "      <th></th>\n",
       "      <th>user_id</th>\n",
       "      <th>play_count</th>\n",
       "    </tr>\n",
       "  </thead>\n",
       "  <tbody>\n",
       "    <tr>\n",
       "      <th>0</th>\n",
       "      <td>0</td>\n",
       "      <td>4</td>\n",
       "    </tr>\n",
       "    <tr>\n",
       "      <th>1</th>\n",
       "      <td>1</td>\n",
       "      <td>5</td>\n",
       "    </tr>\n",
       "    <tr>\n",
       "      <th>2</th>\n",
       "      <td>2</td>\n",
       "      <td>1</td>\n",
       "    </tr>\n",
       "    <tr>\n",
       "      <th>3</th>\n",
       "      <td>3</td>\n",
       "      <td>2</td>\n",
       "    </tr>\n",
       "    <tr>\n",
       "      <th>4</th>\n",
       "      <td>4</td>\n",
       "      <td>3</td>\n",
       "    </tr>\n",
       "    <tr>\n",
       "      <th>...</th>\n",
       "      <td>...</td>\n",
       "      <td>...</td>\n",
       "    </tr>\n",
       "    <tr>\n",
       "      <th>610647</th>\n",
       "      <td>610647</td>\n",
       "      <td>13</td>\n",
       "    </tr>\n",
       "    <tr>\n",
       "      <th>610648</th>\n",
       "      <td>610648</td>\n",
       "      <td>1</td>\n",
       "    </tr>\n",
       "    <tr>\n",
       "      <th>610649</th>\n",
       "      <td>610649</td>\n",
       "      <td>19</td>\n",
       "    </tr>\n",
       "    <tr>\n",
       "      <th>610650</th>\n",
       "      <td>610650</td>\n",
       "      <td>1</td>\n",
       "    </tr>\n",
       "    <tr>\n",
       "      <th>610651</th>\n",
       "      <td>610651</td>\n",
       "      <td>2</td>\n",
       "    </tr>\n",
       "  </tbody>\n",
       "</table>\n",
       "<p>610652 rows × 2 columns</p>\n",
       "</div>"
      ],
      "text/plain": [
       "        user_id  play_count\n",
       "0             0           4\n",
       "1             1           5\n",
       "2             2           1\n",
       "3             3           2\n",
       "4             4           3\n",
       "...         ...         ...\n",
       "610647   610647          13\n",
       "610648   610648           1\n",
       "610649   610649          19\n",
       "610650   610650           1\n",
       "610651   610651           2\n",
       "\n",
       "[610652 rows x 2 columns]"
      ]
     },
     "execution_count": 12,
     "metadata": {},
     "output_type": "execute_result"
    }
   ],
   "source": [
    "# Nivel usuario.\n",
    "song_play_counts_df.groupby('user_id', as_index=False)['play_count'].sum()"
   ]
  },
  {
   "cell_type": "code",
   "execution_count": 13,
   "metadata": {},
   "outputs": [
    {
     "data": {
      "text/html": [
       "<div>\n",
       "<style scoped>\n",
       "    .dataframe tbody tr th:only-of-type {\n",
       "        vertical-align: middle;\n",
       "    }\n",
       "\n",
       "    .dataframe tbody tr th {\n",
       "        vertical-align: top;\n",
       "    }\n",
       "\n",
       "    .dataframe thead th {\n",
       "        text-align: right;\n",
       "    }\n",
       "</style>\n",
       "<table border=\"1\" class=\"dataframe\">\n",
       "  <thead>\n",
       "    <tr style=\"text-align: right;\">\n",
       "      <th></th>\n",
       "      <th>user_id</th>\n",
       "      <th>song_id</th>\n",
       "      <th>play_count</th>\n",
       "    </tr>\n",
       "  </thead>\n",
       "  <tbody>\n",
       "    <tr>\n",
       "      <th>0</th>\n",
       "      <td>60187</td>\n",
       "      <td>SOYMXMF12A6D4FCDA2</td>\n",
       "      <td>1</td>\n",
       "    </tr>\n",
       "    <tr>\n",
       "      <th>1</th>\n",
       "      <td>11193</td>\n",
       "      <td>SOIYNJG12AB01810B2</td>\n",
       "      <td>2</td>\n",
       "    </tr>\n",
       "    <tr>\n",
       "      <th>2</th>\n",
       "      <td>67953</td>\n",
       "      <td>SOYDTRQ12AF72A3D61</td>\n",
       "      <td>5</td>\n",
       "    </tr>\n",
       "    <tr>\n",
       "      <th>3</th>\n",
       "      <td>132173</td>\n",
       "      <td>SOLGFKA12A6D4F7B9A</td>\n",
       "      <td>1</td>\n",
       "    </tr>\n",
       "    <tr>\n",
       "      <th>4</th>\n",
       "      <td>578451</td>\n",
       "      <td>SOTDPWU12A8AE47B2B</td>\n",
       "      <td>4</td>\n",
       "    </tr>\n",
       "    <tr>\n",
       "      <th>...</th>\n",
       "      <td>...</td>\n",
       "      <td>...</td>\n",
       "      <td>...</td>\n",
       "    </tr>\n",
       "    <tr>\n",
       "      <th>1517636</th>\n",
       "      <td>129566</td>\n",
       "      <td>SOIPSLZ12A8C140561</td>\n",
       "      <td>1</td>\n",
       "    </tr>\n",
       "    <tr>\n",
       "      <th>1517637</th>\n",
       "      <td>101507</td>\n",
       "      <td>SOCIDVO12A58A7DDA4</td>\n",
       "      <td>2</td>\n",
       "    </tr>\n",
       "    <tr>\n",
       "      <th>1517638</th>\n",
       "      <td>573589</td>\n",
       "      <td>SOGXDRM12A6D4F7CE0</td>\n",
       "      <td>1</td>\n",
       "    </tr>\n",
       "    <tr>\n",
       "      <th>1517639</th>\n",
       "      <td>469534</td>\n",
       "      <td>SOIDDNJ12AC9071B90</td>\n",
       "      <td>1</td>\n",
       "    </tr>\n",
       "    <tr>\n",
       "      <th>1517640</th>\n",
       "      <td>515742</td>\n",
       "      <td>SOGBZCK12A8C1362F6</td>\n",
       "      <td>5</td>\n",
       "    </tr>\n",
       "  </tbody>\n",
       "</table>\n",
       "<p>1517641 rows × 3 columns</p>\n",
       "</div>"
      ],
      "text/plain": [
       "         user_id             song_id  play_count\n",
       "0          60187  SOYMXMF12A6D4FCDA2           1\n",
       "1          11193  SOIYNJG12AB01810B2           2\n",
       "2          67953  SOYDTRQ12AF72A3D61           5\n",
       "3         132173  SOLGFKA12A6D4F7B9A           1\n",
       "4         578451  SOTDPWU12A8AE47B2B           4\n",
       "...          ...                 ...         ...\n",
       "1517636   129566  SOIPSLZ12A8C140561           1\n",
       "1517637   101507  SOCIDVO12A58A7DDA4           2\n",
       "1517638   573589  SOGXDRM12A6D4F7CE0           1\n",
       "1517639   469534  SOIDDNJ12AC9071B90           1\n",
       "1517640   515742  SOGBZCK12A8C1362F6           5\n",
       "\n",
       "[1517641 rows x 3 columns]"
      ]
     },
     "execution_count": 13,
     "metadata": {},
     "output_type": "execute_result"
    }
   ],
   "source": [
    "song_play_counts_df"
   ]
  },
  {
   "cell_type": "code",
   "execution_count": 14,
   "metadata": {},
   "outputs": [
    {
     "data": {
      "text/html": [
       "<div>\n",
       "<style scoped>\n",
       "    .dataframe tbody tr th:only-of-type {\n",
       "        vertical-align: middle;\n",
       "    }\n",
       "\n",
       "    .dataframe tbody tr th {\n",
       "        vertical-align: top;\n",
       "    }\n",
       "\n",
       "    .dataframe thead th {\n",
       "        text-align: right;\n",
       "    }\n",
       "</style>\n",
       "<table border=\"1\" class=\"dataframe\">\n",
       "  <thead>\n",
       "    <tr style=\"text-align: right;\">\n",
       "      <th></th>\n",
       "      <th>song_id</th>\n",
       "      <th>play_count</th>\n",
       "      <th>user_id</th>\n",
       "      <th>conteo_usuario</th>\n",
       "    </tr>\n",
       "  </thead>\n",
       "  <tbody>\n",
       "    <tr>\n",
       "      <th>0</th>\n",
       "      <td>SOAABDH12A6D4F7658</td>\n",
       "      <td>9</td>\n",
       "      <td>[549734, 251675, 183315, 19290, 104030]</td>\n",
       "      <td>5</td>\n",
       "    </tr>\n",
       "    <tr>\n",
       "      <th>1</th>\n",
       "      <td>SOAAGDJ12A8C13A1C6</td>\n",
       "      <td>661</td>\n",
       "      <td>[539095, 275887, 498098, 490329, 325807, 55017...</td>\n",
       "      <td>255</td>\n",
       "    </tr>\n",
       "    <tr>\n",
       "      <th>2</th>\n",
       "      <td>SOAAGQU12AB01843A8</td>\n",
       "      <td>1</td>\n",
       "      <td>[471243]</td>\n",
       "      <td>1</td>\n",
       "    </tr>\n",
       "    <tr>\n",
       "      <th>3</th>\n",
       "      <td>SOAALEG12A58A79808</td>\n",
       "      <td>282</td>\n",
       "      <td>[453881, 339932, 546841, 78898, 558351, 551499...</td>\n",
       "      <td>151</td>\n",
       "    </tr>\n",
       "    <tr>\n",
       "      <th>4</th>\n",
       "      <td>SOAAMTH12AF729D4E5</td>\n",
       "      <td>1021</td>\n",
       "      <td>[384763, 396183, 79891, 421517, 110612, 279645...</td>\n",
       "      <td>398</td>\n",
       "    </tr>\n",
       "    <tr>\n",
       "      <th>...</th>\n",
       "      <td>...</td>\n",
       "      <td>...</td>\n",
       "      <td>...</td>\n",
       "      <td>...</td>\n",
       "    </tr>\n",
       "    <tr>\n",
       "      <th>10365</th>\n",
       "      <td>SOZZTQU12AB017FAEE</td>\n",
       "      <td>159</td>\n",
       "      <td>[452153, 181201, 441913, 16286, 366490, 458007...</td>\n",
       "      <td>54</td>\n",
       "    </tr>\n",
       "    <tr>\n",
       "      <th>10366</th>\n",
       "      <td>SOZZWHT12A8C142264</td>\n",
       "      <td>125</td>\n",
       "      <td>[324851, 27851, 530192, 195775, 179055, 248676...</td>\n",
       "      <td>48</td>\n",
       "    </tr>\n",
       "    <tr>\n",
       "      <th>10367</th>\n",
       "      <td>SOZZXQJ12AB0184460</td>\n",
       "      <td>4</td>\n",
       "      <td>[378241, 128467, 131013, 340622]</td>\n",
       "      <td>4</td>\n",
       "    </tr>\n",
       "    <tr>\n",
       "      <th>10368</th>\n",
       "      <td>SOZZYDH12AAF3B31AF</td>\n",
       "      <td>7</td>\n",
       "      <td>[565110, 404761]</td>\n",
       "      <td>2</td>\n",
       "    </tr>\n",
       "    <tr>\n",
       "      <th>10369</th>\n",
       "      <td>SOZZZHR12A8C138D52</td>\n",
       "      <td>9</td>\n",
       "      <td>[588602, 561024, 351842, 389760, 470734, 38662...</td>\n",
       "      <td>7</td>\n",
       "    </tr>\n",
       "  </tbody>\n",
       "</table>\n",
       "<p>10370 rows × 4 columns</p>\n",
       "</div>"
      ],
      "text/plain": [
       "                  song_id  play_count  \\\n",
       "0      SOAABDH12A6D4F7658           9   \n",
       "1      SOAAGDJ12A8C13A1C6         661   \n",
       "2      SOAAGQU12AB01843A8           1   \n",
       "3      SOAALEG12A58A79808         282   \n",
       "4      SOAAMTH12AF729D4E5        1021   \n",
       "...                   ...         ...   \n",
       "10365  SOZZTQU12AB017FAEE         159   \n",
       "10366  SOZZWHT12A8C142264         125   \n",
       "10367  SOZZXQJ12AB0184460           4   \n",
       "10368  SOZZYDH12AAF3B31AF           7   \n",
       "10369  SOZZZHR12A8C138D52           9   \n",
       "\n",
       "                                                 user_id  conteo_usuario  \n",
       "0                [549734, 251675, 183315, 19290, 104030]               5  \n",
       "1      [539095, 275887, 498098, 490329, 325807, 55017...             255  \n",
       "2                                               [471243]               1  \n",
       "3      [453881, 339932, 546841, 78898, 558351, 551499...             151  \n",
       "4      [384763, 396183, 79891, 421517, 110612, 279645...             398  \n",
       "...                                                  ...             ...  \n",
       "10365  [452153, 181201, 441913, 16286, 366490, 458007...              54  \n",
       "10366  [324851, 27851, 530192, 195775, 179055, 248676...              48  \n",
       "10367                   [378241, 128467, 131013, 340622]               4  \n",
       "10368                                   [565110, 404761]               2  \n",
       "10369  [588602, 561024, 351842, 389760, 470734, 38662...               7  \n",
       "\n",
       "[10370 rows x 4 columns]"
      ]
     },
     "execution_count": 14,
     "metadata": {},
     "output_type": "execute_result"
    }
   ],
   "source": [
    "song_play_count_grouped = song_play_counts_df.groupby('song_id').agg({'play_count': 'sum', 'user_id': 'nunique', 'user_id': list}).reset_index()\n",
    "song_play_count_grouped['conteo_usuario'] = song_play_count_grouped['user_id'].apply(lambda x: len(x))\n",
    "song_play_count_grouped"
   ]
  },
  {
   "cell_type": "code",
   "execution_count": 15,
   "metadata": {},
   "outputs": [
    {
     "data": {
      "text/plain": [
       "10370"
      ]
     },
     "execution_count": 15,
     "metadata": {},
     "output_type": "execute_result"
    }
   ],
   "source": [
    "song_play_count_grouped['song_id'].nunique()"
   ]
  },
  {
   "cell_type": "code",
   "execution_count": 16,
   "metadata": {},
   "outputs": [
    {
     "data": {
      "text/plain": [
       "(19997, 20)"
      ]
     },
     "execution_count": 16,
     "metadata": {},
     "output_type": "execute_result"
    }
   ],
   "source": [
    "df.shape"
   ]
  },
  {
   "cell_type": "code",
   "execution_count": 17,
   "metadata": {},
   "outputs": [],
   "source": [
    "df = df.merge(song_play_count_grouped[['song_id', 'play_count', 'conteo_usuario']], how='left', on='song_id')"
   ]
  },
  {
   "cell_type": "code",
   "execution_count": 18,
   "metadata": {},
   "outputs": [
    {
     "data": {
      "text/html": [
       "<div>\n",
       "<style scoped>\n",
       "    .dataframe tbody tr th:only-of-type {\n",
       "        vertical-align: middle;\n",
       "    }\n",
       "\n",
       "    .dataframe tbody tr th {\n",
       "        vertical-align: top;\n",
       "    }\n",
       "\n",
       "    .dataframe thead th {\n",
       "        text-align: right;\n",
       "    }\n",
       "</style>\n",
       "<table border=\"1\" class=\"dataframe\">\n",
       "  <thead>\n",
       "    <tr style=\"text-align: right;\">\n",
       "      <th></th>\n",
       "      <th>song_id</th>\n",
       "      <th>play_count</th>\n",
       "      <th>user_id</th>\n",
       "      <th>conteo_usuario</th>\n",
       "    </tr>\n",
       "  </thead>\n",
       "  <tbody>\n",
       "  </tbody>\n",
       "</table>\n",
       "</div>"
      ],
      "text/plain": [
       "Empty DataFrame\n",
       "Columns: [song_id, play_count, user_id, conteo_usuario]\n",
       "Index: []"
      ]
     },
     "execution_count": 18,
     "metadata": {},
     "output_type": "execute_result"
    }
   ],
   "source": [
    "song_play_count_grouped[song_play_count_grouped['song_id'] == 'SONEJET12A8C137D3E']"
   ]
  },
  {
   "cell_type": "code",
   "execution_count": 19,
   "metadata": {},
   "outputs": [
    {
     "data": {
      "text/plain": [
       "0.4814222133319998"
      ]
     },
     "execution_count": 19,
     "metadata": {},
     "output_type": "execute_result"
    }
   ],
   "source": [
    "df['play_count'].isna().sum() / df.shape[0]"
   ]
  },
  {
   "cell_type": "markdown",
   "metadata": {},
   "source": [
    "### song_genres_df"
   ]
  },
  {
   "cell_type": "code",
   "execution_count": 20,
   "metadata": {},
   "outputs": [
    {
     "data": {
      "text/html": [
       "<div>\n",
       "<style scoped>\n",
       "    .dataframe tbody tr th:only-of-type {\n",
       "        vertical-align: middle;\n",
       "    }\n",
       "\n",
       "    .dataframe tbody tr th {\n",
       "        vertical-align: top;\n",
       "    }\n",
       "\n",
       "    .dataframe thead th {\n",
       "        text-align: right;\n",
       "    }\n",
       "</style>\n",
       "<table border=\"1\" class=\"dataframe\">\n",
       "  <thead>\n",
       "    <tr style=\"text-align: right;\">\n",
       "      <th></th>\n",
       "      <th>track_id</th>\n",
       "      <th>main_genre</th>\n",
       "    </tr>\n",
       "  </thead>\n",
       "  <tbody>\n",
       "    <tr>\n",
       "      <th>0</th>\n",
       "      <td>TRSZBVQ128F425D5B6</td>\n",
       "      <td>Rock</td>\n",
       "    </tr>\n",
       "    <tr>\n",
       "      <th>1</th>\n",
       "      <td>TRRJNCE128F9319E52</td>\n",
       "      <td>RnB</td>\n",
       "    </tr>\n",
       "    <tr>\n",
       "      <th>2</th>\n",
       "      <td>TRIZJQX128F1472163</td>\n",
       "      <td>Folk</td>\n",
       "    </tr>\n",
       "    <tr>\n",
       "      <th>3</th>\n",
       "      <td>TRBXBWB128F92F9F2B</td>\n",
       "      <td>Rap</td>\n",
       "    </tr>\n",
       "    <tr>\n",
       "      <th>4</th>\n",
       "      <td>TRFBZFH12903CBDABB</td>\n",
       "      <td>Electronic</td>\n",
       "    </tr>\n",
       "    <tr>\n",
       "      <th>...</th>\n",
       "      <td>...</td>\n",
       "      <td>...</td>\n",
       "    </tr>\n",
       "    <tr>\n",
       "      <th>8411</th>\n",
       "      <td>TRHKNDN128F9320924</td>\n",
       "      <td>Blues</td>\n",
       "    </tr>\n",
       "    <tr>\n",
       "      <th>8412</th>\n",
       "      <td>TRGIYIR128F92DCDF1</td>\n",
       "      <td>Rock</td>\n",
       "    </tr>\n",
       "    <tr>\n",
       "      <th>8413</th>\n",
       "      <td>TRVFMDX128F42915F2</td>\n",
       "      <td>Punk</td>\n",
       "    </tr>\n",
       "    <tr>\n",
       "      <th>8414</th>\n",
       "      <td>TRLWOAY128F933A6A3</td>\n",
       "      <td>Rock</td>\n",
       "    </tr>\n",
       "    <tr>\n",
       "      <th>8415</th>\n",
       "      <td>TRVXQCP12903CA0817</td>\n",
       "      <td>Blues</td>\n",
       "    </tr>\n",
       "  </tbody>\n",
       "</table>\n",
       "<p>8416 rows × 2 columns</p>\n",
       "</div>"
      ],
      "text/plain": [
       "                track_id  main_genre\n",
       "0     TRSZBVQ128F425D5B6        Rock\n",
       "1     TRRJNCE128F9319E52         RnB\n",
       "2     TRIZJQX128F1472163        Folk\n",
       "3     TRBXBWB128F92F9F2B         Rap\n",
       "4     TRFBZFH12903CBDABB  Electronic\n",
       "...                  ...         ...\n",
       "8411  TRHKNDN128F9320924       Blues\n",
       "8412  TRGIYIR128F92DCDF1        Rock\n",
       "8413  TRVFMDX128F42915F2        Punk\n",
       "8414  TRLWOAY128F933A6A3        Rock\n",
       "8415  TRVXQCP12903CA0817       Blues\n",
       "\n",
       "[8416 rows x 2 columns]"
      ]
     },
     "execution_count": 20,
     "metadata": {},
     "output_type": "execute_result"
    }
   ],
   "source": [
    "song_genres_df"
   ]
  },
  {
   "cell_type": "code",
   "execution_count": 21,
   "metadata": {},
   "outputs": [
    {
     "data": {
      "text/plain": [
       "8416"
      ]
     },
     "execution_count": 21,
     "metadata": {},
     "output_type": "execute_result"
    }
   ],
   "source": [
    "song_genres_df['track_id'].nunique()"
   ]
  },
  {
   "cell_type": "code",
   "execution_count": 22,
   "metadata": {},
   "outputs": [],
   "source": [
    "df = df.merge(song_genres_df, how='left', on='track_id')"
   ]
  },
  {
   "cell_type": "code",
   "execution_count": null,
   "metadata": {},
   "outputs": [],
   "source": []
  },
  {
   "cell_type": "markdown",
   "metadata": {},
   "source": [
    "### audio_features_df."
   ]
  },
  {
   "cell_type": "code",
   "execution_count": 23,
   "metadata": {},
   "outputs": [
    {
     "name": "stdout",
     "output_type": "stream",
     "text": [
      "(19664, 23)\n"
     ]
    },
    {
     "data": {
      "text/plain": [
       "19664"
      ]
     },
     "execution_count": 23,
     "metadata": {},
     "output_type": "execute_result"
    }
   ],
   "source": [
    "print(audio_features_df.shape)\n",
    "audio_features_df['track_id'].nunique()"
   ]
  },
  {
   "cell_type": "code",
   "execution_count": 24,
   "metadata": {},
   "outputs": [
    {
     "name": "stdout",
     "output_type": "stream",
     "text": [
      "(19997, 45)\n"
     ]
    },
    {
     "data": {
      "text/html": [
       "<div>\n",
       "<style scoped>\n",
       "    .dataframe tbody tr th:only-of-type {\n",
       "        vertical-align: middle;\n",
       "    }\n",
       "\n",
       "    .dataframe tbody tr th {\n",
       "        vertical-align: top;\n",
       "    }\n",
       "\n",
       "    .dataframe thead th {\n",
       "        text-align: right;\n",
       "    }\n",
       "</style>\n",
       "<table border=\"1\" class=\"dataframe\">\n",
       "  <thead>\n",
       "    <tr style=\"text-align: right;\">\n",
       "      <th></th>\n",
       "      <th>track_id</th>\n",
       "      <th>song_id</th>\n",
       "      <th>mode_confidence</th>\n",
       "      <th>end_of_fade_in</th>\n",
       "      <th>key_confidence</th>\n",
       "      <th>energy</th>\n",
       "      <th>year</th>\n",
       "      <th>duration</th>\n",
       "      <th>time_signature_confidence</th>\n",
       "      <th>title</th>\n",
       "      <th>...</th>\n",
       "      <th>acousticness</th>\n",
       "      <th>aggressiveness</th>\n",
       "      <th>electronicity</th>\n",
       "      <th>happiness</th>\n",
       "      <th>festiveness</th>\n",
       "      <th>relaxation</th>\n",
       "      <th>sadness</th>\n",
       "      <th>brightness</th>\n",
       "      <th>tonality</th>\n",
       "      <th>insrumentalness</th>\n",
       "    </tr>\n",
       "  </thead>\n",
       "  <tbody>\n",
       "    <tr>\n",
       "      <th>0</th>\n",
       "      <td>TRJPTGQ128F42A2187</td>\n",
       "      <td>SOIYHHS12A8C13E7B5</td>\n",
       "      <td>0.452</td>\n",
       "      <td>0.0</td>\n",
       "      <td>0.556</td>\n",
       "      <td>0.0</td>\n",
       "      <td>2007</td>\n",
       "      <td>141.66159</td>\n",
       "      <td>1.000</td>\n",
       "      <td>Don't Cry</td>\n",
       "      <td>...</td>\n",
       "      <td>0.022293</td>\n",
       "      <td>0.500000</td>\n",
       "      <td>0.882711</td>\n",
       "      <td>0.456452</td>\n",
       "      <td>0.772325</td>\n",
       "      <td>0.508476</td>\n",
       "      <td>0.067847</td>\n",
       "      <td>0.878608</td>\n",
       "      <td>0.045879</td>\n",
       "      <td>0.007640</td>\n",
       "    </tr>\n",
       "    <tr>\n",
       "      <th>1</th>\n",
       "      <td>TRZWFET128F425BF9E</td>\n",
       "      <td>SONEJET12A8C137D3E</td>\n",
       "      <td>0.669</td>\n",
       "      <td>0.0</td>\n",
       "      <td>0.679</td>\n",
       "      <td>0.0</td>\n",
       "      <td>2005</td>\n",
       "      <td>354.69016</td>\n",
       "      <td>0.529</td>\n",
       "      <td>Gypsy Funeral: Hark! From The Tombs Of Doleful...</td>\n",
       "      <td>...</td>\n",
       "      <td>0.003386</td>\n",
       "      <td>0.918240</td>\n",
       "      <td>0.395611</td>\n",
       "      <td>0.110496</td>\n",
       "      <td>0.518365</td>\n",
       "      <td>0.262771</td>\n",
       "      <td>0.067540</td>\n",
       "      <td>0.278791</td>\n",
       "      <td>0.150650</td>\n",
       "      <td>0.798211</td>\n",
       "    </tr>\n",
       "    <tr>\n",
       "      <th>2</th>\n",
       "      <td>TRNTAMF128F14618CA</td>\n",
       "      <td>SOPAGVA12AF729F018</td>\n",
       "      <td>0.551</td>\n",
       "      <td>0.0</td>\n",
       "      <td>0.672</td>\n",
       "      <td>0.0</td>\n",
       "      <td>2001</td>\n",
       "      <td>338.44200</td>\n",
       "      <td>1.000</td>\n",
       "      <td>Trade Money</td>\n",
       "      <td>...</td>\n",
       "      <td>0.028752</td>\n",
       "      <td>0.471321</td>\n",
       "      <td>0.934747</td>\n",
       "      <td>0.484657</td>\n",
       "      <td>0.726565</td>\n",
       "      <td>0.012293</td>\n",
       "      <td>0.242436</td>\n",
       "      <td>0.945652</td>\n",
       "      <td>0.123880</td>\n",
       "      <td>0.315464</td>\n",
       "    </tr>\n",
       "    <tr>\n",
       "      <th>3</th>\n",
       "      <td>TRALQGQ128F427E682</td>\n",
       "      <td>SODZLJT12A8C13BD4C</td>\n",
       "      <td>0.354</td>\n",
       "      <td>0.0</td>\n",
       "      <td>0.378</td>\n",
       "      <td>0.0</td>\n",
       "      <td>2004</td>\n",
       "      <td>202.37016</td>\n",
       "      <td>1.000</td>\n",
       "      <td>Me Han Vuelto Loca</td>\n",
       "      <td>...</td>\n",
       "      <td>0.037619</td>\n",
       "      <td>0.242321</td>\n",
       "      <td>0.899101</td>\n",
       "      <td>0.500000</td>\n",
       "      <td>0.860772</td>\n",
       "      <td>0.113721</td>\n",
       "      <td>0.437496</td>\n",
       "      <td>0.776979</td>\n",
       "      <td>0.784130</td>\n",
       "      <td>0.080626</td>\n",
       "    </tr>\n",
       "    <tr>\n",
       "      <th>4</th>\n",
       "      <td>TRLOUXS128F92D963F</td>\n",
       "      <td>SOXWPNT12AAF3B270E</td>\n",
       "      <td>0.761</td>\n",
       "      <td>0.0</td>\n",
       "      <td>0.615</td>\n",
       "      <td>0.0</td>\n",
       "      <td>2005</td>\n",
       "      <td>315.58485</td>\n",
       "      <td>0.719</td>\n",
       "      <td>Riders On The Storm</td>\n",
       "      <td>...</td>\n",
       "      <td>0.463796</td>\n",
       "      <td>0.071169</td>\n",
       "      <td>0.794642</td>\n",
       "      <td>0.339365</td>\n",
       "      <td>0.082585</td>\n",
       "      <td>0.974410</td>\n",
       "      <td>0.669444</td>\n",
       "      <td>0.276611</td>\n",
       "      <td>0.030401</td>\n",
       "      <td>0.676081</td>\n",
       "    </tr>\n",
       "  </tbody>\n",
       "</table>\n",
       "<p>5 rows × 45 columns</p>\n",
       "</div>"
      ],
      "text/plain": [
       "             track_id             song_id  mode_confidence  end_of_fade_in  \\\n",
       "0  TRJPTGQ128F42A2187  SOIYHHS12A8C13E7B5            0.452             0.0   \n",
       "1  TRZWFET128F425BF9E  SONEJET12A8C137D3E            0.669             0.0   \n",
       "2  TRNTAMF128F14618CA  SOPAGVA12AF729F018            0.551             0.0   \n",
       "3  TRALQGQ128F427E682  SODZLJT12A8C13BD4C            0.354             0.0   \n",
       "4  TRLOUXS128F92D963F  SOXWPNT12AAF3B270E            0.761             0.0   \n",
       "\n",
       "   key_confidence  energy  year   duration  time_signature_confidence  \\\n",
       "0           0.556     0.0  2007  141.66159                      1.000   \n",
       "1           0.679     0.0  2005  354.69016                      0.529   \n",
       "2           0.672     0.0  2001  338.44200                      1.000   \n",
       "3           0.378     0.0  2004  202.37016                      1.000   \n",
       "4           0.615     0.0  2005  315.58485                      0.719   \n",
       "\n",
       "                                               title  ...  acousticness  \\\n",
       "0                                          Don't Cry  ...      0.022293   \n",
       "1  Gypsy Funeral: Hark! From The Tombs Of Doleful...  ...      0.003386   \n",
       "2                                        Trade Money  ...      0.028752   \n",
       "3                                 Me Han Vuelto Loca  ...      0.037619   \n",
       "4                                Riders On The Storm  ...      0.463796   \n",
       "\n",
       "   aggressiveness  electronicity  happiness festiveness relaxation   sadness  \\\n",
       "0        0.500000       0.882711   0.456452    0.772325   0.508476  0.067847   \n",
       "1        0.918240       0.395611   0.110496    0.518365   0.262771  0.067540   \n",
       "2        0.471321       0.934747   0.484657    0.726565   0.012293  0.242436   \n",
       "3        0.242321       0.899101   0.500000    0.860772   0.113721  0.437496   \n",
       "4        0.071169       0.794642   0.339365    0.082585   0.974410  0.669444   \n",
       "\n",
       "   brightness  tonality  insrumentalness  \n",
       "0    0.878608  0.045879         0.007640  \n",
       "1    0.278791  0.150650         0.798211  \n",
       "2    0.945652  0.123880         0.315464  \n",
       "3    0.776979  0.784130         0.080626  \n",
       "4    0.276611  0.030401         0.676081  \n",
       "\n",
       "[5 rows x 45 columns]"
      ]
     },
     "execution_count": 24,
     "metadata": {},
     "output_type": "execute_result"
    }
   ],
   "source": [
    "df = df.merge(audio_features_df, how='left', on='track_id')\n",
    "print(df.shape)\n",
    "df.head(5)"
   ]
  },
  {
   "cell_type": "markdown",
   "metadata": {},
   "source": [
    "### song_lyrics_df"
   ]
  },
  {
   "cell_type": "code",
   "execution_count": 25,
   "metadata": {},
   "outputs": [
    {
     "data": {
      "text/html": [
       "<div>\n",
       "<style scoped>\n",
       "    .dataframe tbody tr th:only-of-type {\n",
       "        vertical-align: middle;\n",
       "    }\n",
       "\n",
       "    .dataframe tbody tr th {\n",
       "        vertical-align: top;\n",
       "    }\n",
       "\n",
       "    .dataframe thead th {\n",
       "        text-align: right;\n",
       "    }\n",
       "</style>\n",
       "<table border=\"1\" class=\"dataframe\">\n",
       "  <thead>\n",
       "    <tr style=\"text-align: right;\">\n",
       "      <th></th>\n",
       "      <th>track_id</th>\n",
       "      <th>a</th>\n",
       "      <th>all</th>\n",
       "      <th>am</th>\n",
       "      <th>and</th>\n",
       "      <th>are</th>\n",
       "      <th>as</th>\n",
       "      <th>at</th>\n",
       "      <th>away</th>\n",
       "      <th>babi</th>\n",
       "      <th>...</th>\n",
       "      <th>when</th>\n",
       "      <th>where</th>\n",
       "      <th>who</th>\n",
       "      <th>will</th>\n",
       "      <th>with</th>\n",
       "      <th>would</th>\n",
       "      <th>y</th>\n",
       "      <th>yeah</th>\n",
       "      <th>you</th>\n",
       "      <th>your</th>\n",
       "    </tr>\n",
       "  </thead>\n",
       "  <tbody>\n",
       "    <tr>\n",
       "      <th>0</th>\n",
       "      <td>TRSZDWT128F4282FF8</td>\n",
       "      <td>2.0</td>\n",
       "      <td>1.0</td>\n",
       "      <td>0.0</td>\n",
       "      <td>2.0</td>\n",
       "      <td>1.0</td>\n",
       "      <td>1.0</td>\n",
       "      <td>0.0</td>\n",
       "      <td>0.0</td>\n",
       "      <td>0.0</td>\n",
       "      <td>...</td>\n",
       "      <td>0.0</td>\n",
       "      <td>4.0</td>\n",
       "      <td>0.0</td>\n",
       "      <td>2.0</td>\n",
       "      <td>0.0</td>\n",
       "      <td>0.0</td>\n",
       "      <td>0.0</td>\n",
       "      <td>0.0</td>\n",
       "      <td>0.0</td>\n",
       "      <td>0.0</td>\n",
       "    </tr>\n",
       "    <tr>\n",
       "      <th>1</th>\n",
       "      <td>TRFVRRO128F426294C</td>\n",
       "      <td>2.0</td>\n",
       "      <td>4.0</td>\n",
       "      <td>4.0</td>\n",
       "      <td>4.0</td>\n",
       "      <td>0.0</td>\n",
       "      <td>0.0</td>\n",
       "      <td>0.0</td>\n",
       "      <td>0.0</td>\n",
       "      <td>0.0</td>\n",
       "      <td>...</td>\n",
       "      <td>3.0</td>\n",
       "      <td>0.0</td>\n",
       "      <td>0.0</td>\n",
       "      <td>9.0</td>\n",
       "      <td>3.0</td>\n",
       "      <td>1.0</td>\n",
       "      <td>0.0</td>\n",
       "      <td>0.0</td>\n",
       "      <td>8.0</td>\n",
       "      <td>0.0</td>\n",
       "    </tr>\n",
       "    <tr>\n",
       "      <th>2</th>\n",
       "      <td>TRRCNRA128F9348098</td>\n",
       "      <td>1.0</td>\n",
       "      <td>1.0</td>\n",
       "      <td>0.0</td>\n",
       "      <td>1.0</td>\n",
       "      <td>5.0</td>\n",
       "      <td>0.0</td>\n",
       "      <td>0.0</td>\n",
       "      <td>4.0</td>\n",
       "      <td>4.0</td>\n",
       "      <td>...</td>\n",
       "      <td>0.0</td>\n",
       "      <td>0.0</td>\n",
       "      <td>0.0</td>\n",
       "      <td>1.0</td>\n",
       "      <td>0.0</td>\n",
       "      <td>2.0</td>\n",
       "      <td>0.0</td>\n",
       "      <td>0.0</td>\n",
       "      <td>16.0</td>\n",
       "      <td>4.0</td>\n",
       "    </tr>\n",
       "    <tr>\n",
       "      <th>3</th>\n",
       "      <td>TRMWJFM128F4235893</td>\n",
       "      <td>4.0</td>\n",
       "      <td>0.0</td>\n",
       "      <td>0.0</td>\n",
       "      <td>2.0</td>\n",
       "      <td>1.0</td>\n",
       "      <td>0.0</td>\n",
       "      <td>2.0</td>\n",
       "      <td>1.0</td>\n",
       "      <td>0.0</td>\n",
       "      <td>...</td>\n",
       "      <td>2.0</td>\n",
       "      <td>6.0</td>\n",
       "      <td>1.0</td>\n",
       "      <td>1.0</td>\n",
       "      <td>2.0</td>\n",
       "      <td>2.0</td>\n",
       "      <td>0.0</td>\n",
       "      <td>0.0</td>\n",
       "      <td>11.0</td>\n",
       "      <td>18.0</td>\n",
       "    </tr>\n",
       "    <tr>\n",
       "      <th>4</th>\n",
       "      <td>TRBMXWS12903CDEC1A</td>\n",
       "      <td>4.0</td>\n",
       "      <td>2.0</td>\n",
       "      <td>0.0</td>\n",
       "      <td>8.0</td>\n",
       "      <td>2.0</td>\n",
       "      <td>1.0</td>\n",
       "      <td>0.0</td>\n",
       "      <td>0.0</td>\n",
       "      <td>0.0</td>\n",
       "      <td>...</td>\n",
       "      <td>1.0</td>\n",
       "      <td>1.0</td>\n",
       "      <td>0.0</td>\n",
       "      <td>1.0</td>\n",
       "      <td>1.0</td>\n",
       "      <td>0.0</td>\n",
       "      <td>0.0</td>\n",
       "      <td>0.0</td>\n",
       "      <td>1.0</td>\n",
       "      <td>0.0</td>\n",
       "    </tr>\n",
       "  </tbody>\n",
       "</table>\n",
       "<p>5 rows × 101 columns</p>\n",
       "</div>"
      ],
      "text/plain": [
       "             track_id    a  all   am  and  are   as   at  away  babi  ...  \\\n",
       "0  TRSZDWT128F4282FF8  2.0  1.0  0.0  2.0  1.0  1.0  0.0   0.0   0.0  ...   \n",
       "1  TRFVRRO128F426294C  2.0  4.0  4.0  4.0  0.0  0.0  0.0   0.0   0.0  ...   \n",
       "2  TRRCNRA128F9348098  1.0  1.0  0.0  1.0  5.0  0.0  0.0   4.0   4.0  ...   \n",
       "3  TRMWJFM128F4235893  4.0  0.0  0.0  2.0  1.0  0.0  2.0   1.0   0.0  ...   \n",
       "4  TRBMXWS12903CDEC1A  4.0  2.0  0.0  8.0  2.0  1.0  0.0   0.0   0.0  ...   \n",
       "\n",
       "   when  where  who  will  with  would    y  yeah   you  your  \n",
       "0   0.0    4.0  0.0   2.0   0.0    0.0  0.0   0.0   0.0   0.0  \n",
       "1   3.0    0.0  0.0   9.0   3.0    1.0  0.0   0.0   8.0   0.0  \n",
       "2   0.0    0.0  0.0   1.0   0.0    2.0  0.0   0.0  16.0   4.0  \n",
       "3   2.0    6.0  1.0   1.0   2.0    2.0  0.0   0.0  11.0  18.0  \n",
       "4   1.0    1.0  0.0   1.0   1.0    0.0  0.0   0.0   1.0   0.0  \n",
       "\n",
       "[5 rows x 101 columns]"
      ]
     },
     "execution_count": 25,
     "metadata": {},
     "output_type": "execute_result"
    }
   ],
   "source": [
    "song_lyrics_df.head()"
   ]
  },
  {
   "cell_type": "code",
   "execution_count": 26,
   "metadata": {},
   "outputs": [
    {
     "name": "stdout",
     "output_type": "stream",
     "text": [
      "(6803, 101)\n",
      "6803\n"
     ]
    }
   ],
   "source": [
    "print(song_lyrics_df.shape)\n",
    "print(song_lyrics_df['track_id'].nunique())"
   ]
  },
  {
   "cell_type": "code",
   "execution_count": 27,
   "metadata": {},
   "outputs": [],
   "source": [
    "df = df.merge(song_lyrics_df, how='left', on='track_id')"
   ]
  },
  {
   "cell_type": "markdown",
   "metadata": {},
   "source": [
    "### Target"
   ]
  },
  {
   "cell_type": "code",
   "execution_count": 28,
   "metadata": {},
   "outputs": [
    {
     "data": {
      "text/plain": [
       "count    10370.000000\n",
       "mean       407.235391\n",
       "std       2149.946124\n",
       "min          1.000000\n",
       "25%         10.000000\n",
       "50%         41.000000\n",
       "75%        170.000000\n",
       "80%        252.000000\n",
       "90%        690.300000\n",
       "95%       1528.550000\n",
       "99%       6547.200000\n",
       "max      83255.000000\n",
       "Name: play_count, dtype: float64"
      ]
     },
     "execution_count": 28,
     "metadata": {},
     "output_type": "execute_result"
    }
   ],
   "source": [
    "df['play_count'].describe(percentiles=[0.25, 0.5, 0.75, 0.8, 0.9, 0.95, 0.99])"
   ]
  },
  {
   "cell_type": "code",
   "execution_count": 29,
   "metadata": {},
   "outputs": [
    {
     "name": "stdout",
     "output_type": "stream",
     "text": [
      "count    10370.000000\n",
      "mean       407.235391\n",
      "std       2149.946124\n",
      "min          1.000000\n",
      "25%         10.000000\n",
      "50%         41.000000\n",
      "75%        170.000000\n",
      "80%        252.000000\n",
      "90%        690.300000\n",
      "95%       1528.550000\n",
      "99%       6547.200000\n",
      "max      83255.000000\n",
      "Name: play_count, dtype: float64\n"
     ]
    }
   ],
   "source": [
    "percentiles = df['play_count'].describe(percentiles=[0.25, 0.5, 0.75, 0.8, 0.9, 0.95, 0.99])\n",
    "print(percentiles)"
   ]
  },
  {
   "cell_type": "code",
   "execution_count": 30,
   "metadata": {},
   "outputs": [],
   "source": [
    "bins = [df['play_count'].min(), percentiles['25%'], percentiles['50%'], percentiles['75%'], percentiles['80%'], percentiles['90%'], percentiles['95%'], percentiles['99%'], df['play_count'].max()]\n",
    "labels = ['< 25%', '25%-50%', '50%-75%', '75%-80%', '80%-90%', '90%-95%', '95%-99%', '> 99%']\n",
    "df['play_count_interval'] = pd.cut(df['play_count'], bins=bins, labels=labels, include_lowest=True)\n"
   ]
  },
  {
   "cell_type": "code",
   "execution_count": 31,
   "metadata": {},
   "outputs": [
    {
     "data": {
      "text/plain": [
       "play_count_interval\n",
       "NaN        9627\n",
       "< 25%      2598\n",
       "25%-50%    2594\n",
       "50%-75%    2586\n",
       "80%-90%    1031\n",
       "75%-80%     524\n",
       "90%-95%     518\n",
       "95%-99%     415\n",
       "> 99%       104\n",
       "Name: count, dtype: int64"
      ]
     },
     "execution_count": 31,
     "metadata": {},
     "output_type": "execute_result"
    }
   ],
   "source": [
    "df['play_count_interval'].value_counts(dropna=False)"
   ]
  },
  {
   "cell_type": "code",
   "execution_count": 32,
   "metadata": {},
   "outputs": [
    {
     "name": "stdout",
     "output_type": "stream",
     "text": [
      "(19997, 145)\n"
     ]
    }
   ],
   "source": [
    "# Eliminar esta columna.\n",
    "df = df.drop(['play_count_interval'], axis= 1)\n",
    "print(df.shape)"
   ]
  },
  {
   "cell_type": "code",
   "execution_count": 33,
   "metadata": {},
   "outputs": [
    {
     "name": "stdout",
     "output_type": "stream",
     "text": [
      "target\n",
      "0    0.870381\n",
      "1    0.129619\n",
      "Name: proportion, dtype: float64\n"
     ]
    }
   ],
   "source": [
    "# Target de clasificación.\n",
    "\n",
    "percentil = df['play_count'].quantile(0.75)\n",
    "df['target'] = (df['play_count'] > percentil).astype(int)\n",
    "df = df.drop(['play_count'], axis= 1)\n",
    "print(df['target'].value_counts(normalize=True))"
   ]
  },
  {
   "cell_type": "code",
   "execution_count": 34,
   "metadata": {},
   "outputs": [
    {
     "name": "stdout",
     "output_type": "stream",
     "text": [
      "(0, 145)\n"
     ]
    }
   ],
   "source": [
    "df_valid = df[df['target'].isna()]\n",
    "print(df_valid.shape)"
   ]
  },
  {
   "cell_type": "code",
   "execution_count": null,
   "metadata": {},
   "outputs": [],
   "source": []
  },
  {
   "cell_type": "code",
   "execution_count": null,
   "metadata": {},
   "outputs": [],
   "source": []
  },
  {
   "cell_type": "code",
   "execution_count": 35,
   "metadata": {},
   "outputs": [
    {
     "name": "stdout",
     "output_type": "stream",
     "text": [
      "(19997, 145)\n"
     ]
    }
   ],
   "source": [
    "df_train = df[df['target'].notna()]\n",
    "print(df_train.shape)\n"
   ]
  },
  {
   "cell_type": "code",
   "execution_count": null,
   "metadata": {},
   "outputs": [],
   "source": []
  },
  {
   "cell_type": "markdown",
   "metadata": {},
   "source": [
    "## Limpieza de datos"
   ]
  },
  {
   "cell_type": "code",
   "execution_count": 36,
   "metadata": {},
   "outputs": [
    {
     "data": {
      "text/plain": [
       "conteo_usuario             9627\n",
       "main_genre                13998\n",
       "analysis_sample_rate_y     2891\n",
       "bit_rate                   2891\n",
       "equal_loudness             2891\n",
       "                          ...  \n",
       "would                     13195\n",
       "y                         13195\n",
       "yeah                      13195\n",
       "you                       13195\n",
       "your                      13195\n",
       "Length: 124, dtype: int64"
      ]
     },
     "execution_count": 36,
     "metadata": {},
     "output_type": "execute_result"
    }
   ],
   "source": [
    "df_train.isna().sum()[df_train.isna().sum() >0]"
   ]
  },
  {
   "cell_type": "code",
   "execution_count": null,
   "metadata": {},
   "outputs": [],
   "source": []
  },
  {
   "cell_type": "markdown",
   "metadata": {},
   "source": [
    "## Ingeniería de características."
   ]
  },
  {
   "cell_type": "code",
   "execution_count": null,
   "metadata": {},
   "outputs": [],
   "source": []
  },
  {
   "cell_type": "code",
   "execution_count": null,
   "metadata": {},
   "outputs": [],
   "source": []
  },
  {
   "cell_type": "code",
   "execution_count": 37,
   "metadata": {},
   "outputs": [
    {
     "data": {
      "text/plain": [
       "(19997, 145)"
      ]
     },
     "execution_count": 37,
     "metadata": {},
     "output_type": "execute_result"
    }
   ],
   "source": [
    "df_train.shape"
   ]
  },
  {
   "cell_type": "code",
   "execution_count": 38,
   "metadata": {},
   "outputs": [
    {
     "name": "stdout",
     "output_type": "stream",
     "text": [
      "10\n"
     ]
    }
   ],
   "source": [
    "col_texto = df_train.columns[df_train.dtypes == 'object'].tolist()\n",
    "print(len(col_texto))\n"
   ]
  },
  {
   "cell_type": "code",
   "execution_count": 39,
   "metadata": {},
   "outputs": [
    {
     "name": "stdout",
     "output_type": "stream",
     "text": [
      "134\n"
     ]
    }
   ],
   "source": [
    "col_continuas = (df_train.columns[(df_train.dtypes == 'float') | (df_train.dtypes == 'int')]).tolist()\n",
    "col_continuas.remove('target')\n",
    "print(len(col_continuas))"
   ]
  },
  {
   "cell_type": "code",
   "execution_count": 40,
   "metadata": {},
   "outputs": [],
   "source": [
    "df_train.rename(columns={col: 'c_' + col for col in col_continuas}, inplace=True)"
   ]
  },
  {
   "cell_type": "code",
   "execution_count": 41,
   "metadata": {},
   "outputs": [
    {
     "name": "stdout",
     "output_type": "stream",
     "text": [
      "(19997, 135)\n"
     ]
    }
   ],
   "source": [
    "## df con varaibles continuas y discretas \n",
    "varc         = [v for v in df_train.columns if v[:2]=='c_']\n",
    "df_tad = df_train[varc + ['target']].copy()\n",
    "print(df_tad.shape)"
   ]
  },
  {
   "cell_type": "code",
   "execution_count": 42,
   "metadata": {},
   "outputs": [
    {
     "name": "stdout",
     "output_type": "stream",
     "text": [
      "(3850, 135)\n"
     ]
    }
   ],
   "source": [
    "df_tad = df_tad.dropna()\n",
    "print(df_tad.shape)\n"
   ]
  },
  {
   "cell_type": "markdown",
   "metadata": {},
   "source": [
    "## Modelación."
   ]
  },
  {
   "cell_type": "code",
   "execution_count": 43,
   "metadata": {},
   "outputs": [
    {
     "name": "stdout",
     "output_type": "stream",
     "text": [
      "(3850, 134)\n"
     ]
    }
   ],
   "source": [
    "X = df_tad.drop(columns=['target'])\n",
    "print(X.shape)\n",
    "y = df_tad['target']"
   ]
  },
  {
   "cell_type": "code",
   "execution_count": 44,
   "metadata": {},
   "outputs": [
    {
     "data": {
      "text/html": [
       "<div>\n",
       "<style scoped>\n",
       "    .dataframe tbody tr th:only-of-type {\n",
       "        vertical-align: middle;\n",
       "    }\n",
       "\n",
       "    .dataframe tbody tr th {\n",
       "        vertical-align: top;\n",
       "    }\n",
       "\n",
       "    .dataframe thead th {\n",
       "        text-align: right;\n",
       "    }\n",
       "</style>\n",
       "<table border=\"1\" class=\"dataframe\">\n",
       "  <thead>\n",
       "    <tr style=\"text-align: right;\">\n",
       "      <th></th>\n",
       "      <th>c_mode_confidence</th>\n",
       "      <th>c_end_of_fade_in</th>\n",
       "      <th>c_key_confidence</th>\n",
       "      <th>c_energy</th>\n",
       "      <th>c_year</th>\n",
       "      <th>c_duration</th>\n",
       "      <th>c_time_signature_confidence</th>\n",
       "      <th>c_start_of_fade_out</th>\n",
       "      <th>c_analysis_sample_rate_x</th>\n",
       "      <th>c_time_signature</th>\n",
       "      <th>...</th>\n",
       "      <th>c_when</th>\n",
       "      <th>c_where</th>\n",
       "      <th>c_who</th>\n",
       "      <th>c_will</th>\n",
       "      <th>c_with</th>\n",
       "      <th>c_would</th>\n",
       "      <th>c_y</th>\n",
       "      <th>c_yeah</th>\n",
       "      <th>c_you</th>\n",
       "      <th>c_your</th>\n",
       "    </tr>\n",
       "  </thead>\n",
       "  <tbody>\n",
       "    <tr>\n",
       "      <th>0</th>\n",
       "      <td>0.452</td>\n",
       "      <td>0.000</td>\n",
       "      <td>0.556</td>\n",
       "      <td>0.0</td>\n",
       "      <td>2007</td>\n",
       "      <td>141.66159</td>\n",
       "      <td>1.000</td>\n",
       "      <td>141.662</td>\n",
       "      <td>22050</td>\n",
       "      <td>4</td>\n",
       "      <td>...</td>\n",
       "      <td>3.0</td>\n",
       "      <td>0.0</td>\n",
       "      <td>1.0</td>\n",
       "      <td>0.0</td>\n",
       "      <td>0.0</td>\n",
       "      <td>0.0</td>\n",
       "      <td>0.0</td>\n",
       "      <td>0.0</td>\n",
       "      <td>32.0</td>\n",
       "      <td>6.0</td>\n",
       "    </tr>\n",
       "    <tr>\n",
       "      <th>2</th>\n",
       "      <td>0.551</td>\n",
       "      <td>0.000</td>\n",
       "      <td>0.672</td>\n",
       "      <td>0.0</td>\n",
       "      <td>2001</td>\n",
       "      <td>338.44200</td>\n",
       "      <td>1.000</td>\n",
       "      <td>327.529</td>\n",
       "      <td>22050</td>\n",
       "      <td>4</td>\n",
       "      <td>...</td>\n",
       "      <td>1.0</td>\n",
       "      <td>1.0</td>\n",
       "      <td>2.0</td>\n",
       "      <td>1.0</td>\n",
       "      <td>4.0</td>\n",
       "      <td>1.0</td>\n",
       "      <td>0.0</td>\n",
       "      <td>0.0</td>\n",
       "      <td>6.0</td>\n",
       "      <td>3.0</td>\n",
       "    </tr>\n",
       "    <tr>\n",
       "      <th>3</th>\n",
       "      <td>0.354</td>\n",
       "      <td>0.000</td>\n",
       "      <td>0.378</td>\n",
       "      <td>0.0</td>\n",
       "      <td>2004</td>\n",
       "      <td>202.37016</td>\n",
       "      <td>1.000</td>\n",
       "      <td>200.220</td>\n",
       "      <td>22050</td>\n",
       "      <td>4</td>\n",
       "      <td>...</td>\n",
       "      <td>0.0</td>\n",
       "      <td>0.0</td>\n",
       "      <td>0.0</td>\n",
       "      <td>0.0</td>\n",
       "      <td>0.0</td>\n",
       "      <td>0.0</td>\n",
       "      <td>2.0</td>\n",
       "      <td>0.0</td>\n",
       "      <td>0.0</td>\n",
       "      <td>0.0</td>\n",
       "    </tr>\n",
       "    <tr>\n",
       "      <th>10</th>\n",
       "      <td>0.512</td>\n",
       "      <td>2.125</td>\n",
       "      <td>0.330</td>\n",
       "      <td>0.0</td>\n",
       "      <td>2007</td>\n",
       "      <td>220.70812</td>\n",
       "      <td>1.000</td>\n",
       "      <td>206.965</td>\n",
       "      <td>22050</td>\n",
       "      <td>4</td>\n",
       "      <td>...</td>\n",
       "      <td>0.0</td>\n",
       "      <td>0.0</td>\n",
       "      <td>0.0</td>\n",
       "      <td>0.0</td>\n",
       "      <td>1.0</td>\n",
       "      <td>0.0</td>\n",
       "      <td>0.0</td>\n",
       "      <td>0.0</td>\n",
       "      <td>1.0</td>\n",
       "      <td>1.0</td>\n",
       "    </tr>\n",
       "    <tr>\n",
       "      <th>20</th>\n",
       "      <td>0.461</td>\n",
       "      <td>0.113</td>\n",
       "      <td>0.601</td>\n",
       "      <td>0.0</td>\n",
       "      <td>2007</td>\n",
       "      <td>196.10077</td>\n",
       "      <td>0.886</td>\n",
       "      <td>191.843</td>\n",
       "      <td>22050</td>\n",
       "      <td>5</td>\n",
       "      <td>...</td>\n",
       "      <td>1.0</td>\n",
       "      <td>0.0</td>\n",
       "      <td>0.0</td>\n",
       "      <td>2.0</td>\n",
       "      <td>2.0</td>\n",
       "      <td>0.0</td>\n",
       "      <td>0.0</td>\n",
       "      <td>2.0</td>\n",
       "      <td>10.0</td>\n",
       "      <td>3.0</td>\n",
       "    </tr>\n",
       "    <tr>\n",
       "      <th>...</th>\n",
       "      <td>...</td>\n",
       "      <td>...</td>\n",
       "      <td>...</td>\n",
       "      <td>...</td>\n",
       "      <td>...</td>\n",
       "      <td>...</td>\n",
       "      <td>...</td>\n",
       "      <td>...</td>\n",
       "      <td>...</td>\n",
       "      <td>...</td>\n",
       "      <td>...</td>\n",
       "      <td>...</td>\n",
       "      <td>...</td>\n",
       "      <td>...</td>\n",
       "      <td>...</td>\n",
       "      <td>...</td>\n",
       "      <td>...</td>\n",
       "      <td>...</td>\n",
       "      <td>...</td>\n",
       "      <td>...</td>\n",
       "      <td>...</td>\n",
       "    </tr>\n",
       "    <tr>\n",
       "      <th>19951</th>\n",
       "      <td>0.557</td>\n",
       "      <td>0.165</td>\n",
       "      <td>0.713</td>\n",
       "      <td>0.0</td>\n",
       "      <td>2005</td>\n",
       "      <td>250.33098</td>\n",
       "      <td>0.939</td>\n",
       "      <td>235.764</td>\n",
       "      <td>22050</td>\n",
       "      <td>4</td>\n",
       "      <td>...</td>\n",
       "      <td>1.0</td>\n",
       "      <td>0.0</td>\n",
       "      <td>0.0</td>\n",
       "      <td>1.0</td>\n",
       "      <td>1.0</td>\n",
       "      <td>0.0</td>\n",
       "      <td>0.0</td>\n",
       "      <td>0.0</td>\n",
       "      <td>7.0</td>\n",
       "      <td>16.0</td>\n",
       "    </tr>\n",
       "    <tr>\n",
       "      <th>19968</th>\n",
       "      <td>0.293</td>\n",
       "      <td>0.084</td>\n",
       "      <td>0.146</td>\n",
       "      <td>0.0</td>\n",
       "      <td>2002</td>\n",
       "      <td>307.87873</td>\n",
       "      <td>0.596</td>\n",
       "      <td>274.175</td>\n",
       "      <td>22050</td>\n",
       "      <td>4</td>\n",
       "      <td>...</td>\n",
       "      <td>0.0</td>\n",
       "      <td>0.0</td>\n",
       "      <td>0.0</td>\n",
       "      <td>7.0</td>\n",
       "      <td>0.0</td>\n",
       "      <td>0.0</td>\n",
       "      <td>0.0</td>\n",
       "      <td>0.0</td>\n",
       "      <td>2.0</td>\n",
       "      <td>2.0</td>\n",
       "    </tr>\n",
       "    <tr>\n",
       "      <th>19979</th>\n",
       "      <td>0.695</td>\n",
       "      <td>0.305</td>\n",
       "      <td>0.702</td>\n",
       "      <td>0.0</td>\n",
       "      <td>2008</td>\n",
       "      <td>255.50322</td>\n",
       "      <td>1.000</td>\n",
       "      <td>239.299</td>\n",
       "      <td>22050</td>\n",
       "      <td>4</td>\n",
       "      <td>...</td>\n",
       "      <td>0.0</td>\n",
       "      <td>0.0</td>\n",
       "      <td>0.0</td>\n",
       "      <td>0.0</td>\n",
       "      <td>0.0</td>\n",
       "      <td>0.0</td>\n",
       "      <td>0.0</td>\n",
       "      <td>0.0</td>\n",
       "      <td>0.0</td>\n",
       "      <td>0.0</td>\n",
       "    </tr>\n",
       "    <tr>\n",
       "      <th>19985</th>\n",
       "      <td>0.619</td>\n",
       "      <td>0.728</td>\n",
       "      <td>0.684</td>\n",
       "      <td>0.0</td>\n",
       "      <td>2004</td>\n",
       "      <td>218.06975</td>\n",
       "      <td>0.398</td>\n",
       "      <td>202.263</td>\n",
       "      <td>22050</td>\n",
       "      <td>4</td>\n",
       "      <td>...</td>\n",
       "      <td>0.0</td>\n",
       "      <td>0.0</td>\n",
       "      <td>0.0</td>\n",
       "      <td>0.0</td>\n",
       "      <td>0.0</td>\n",
       "      <td>0.0</td>\n",
       "      <td>0.0</td>\n",
       "      <td>1.0</td>\n",
       "      <td>8.0</td>\n",
       "      <td>1.0</td>\n",
       "    </tr>\n",
       "    <tr>\n",
       "      <th>19992</th>\n",
       "      <td>0.355</td>\n",
       "      <td>0.496</td>\n",
       "      <td>0.032</td>\n",
       "      <td>0.0</td>\n",
       "      <td>1998</td>\n",
       "      <td>209.16200</td>\n",
       "      <td>0.260</td>\n",
       "      <td>206.495</td>\n",
       "      <td>22050</td>\n",
       "      <td>4</td>\n",
       "      <td>...</td>\n",
       "      <td>0.0</td>\n",
       "      <td>1.0</td>\n",
       "      <td>0.0</td>\n",
       "      <td>0.0</td>\n",
       "      <td>4.0</td>\n",
       "      <td>0.0</td>\n",
       "      <td>0.0</td>\n",
       "      <td>1.0</td>\n",
       "      <td>6.0</td>\n",
       "      <td>1.0</td>\n",
       "    </tr>\n",
       "  </tbody>\n",
       "</table>\n",
       "<p>3850 rows × 134 columns</p>\n",
       "</div>"
      ],
      "text/plain": [
       "       c_mode_confidence  c_end_of_fade_in  c_key_confidence  c_energy  \\\n",
       "0                  0.452             0.000             0.556       0.0   \n",
       "2                  0.551             0.000             0.672       0.0   \n",
       "3                  0.354             0.000             0.378       0.0   \n",
       "10                 0.512             2.125             0.330       0.0   \n",
       "20                 0.461             0.113             0.601       0.0   \n",
       "...                  ...               ...               ...       ...   \n",
       "19951              0.557             0.165             0.713       0.0   \n",
       "19968              0.293             0.084             0.146       0.0   \n",
       "19979              0.695             0.305             0.702       0.0   \n",
       "19985              0.619             0.728             0.684       0.0   \n",
       "19992              0.355             0.496             0.032       0.0   \n",
       "\n",
       "       c_year  c_duration  c_time_signature_confidence  c_start_of_fade_out  \\\n",
       "0        2007   141.66159                        1.000              141.662   \n",
       "2        2001   338.44200                        1.000              327.529   \n",
       "3        2004   202.37016                        1.000              200.220   \n",
       "10       2007   220.70812                        1.000              206.965   \n",
       "20       2007   196.10077                        0.886              191.843   \n",
       "...       ...         ...                          ...                  ...   \n",
       "19951    2005   250.33098                        0.939              235.764   \n",
       "19968    2002   307.87873                        0.596              274.175   \n",
       "19979    2008   255.50322                        1.000              239.299   \n",
       "19985    2004   218.06975                        0.398              202.263   \n",
       "19992    1998   209.16200                        0.260              206.495   \n",
       "\n",
       "       c_analysis_sample_rate_x  c_time_signature  ...  c_when  c_where  \\\n",
       "0                         22050                 4  ...     3.0      0.0   \n",
       "2                         22050                 4  ...     1.0      1.0   \n",
       "3                         22050                 4  ...     0.0      0.0   \n",
       "10                        22050                 4  ...     0.0      0.0   \n",
       "20                        22050                 5  ...     1.0      0.0   \n",
       "...                         ...               ...  ...     ...      ...   \n",
       "19951                     22050                 4  ...     1.0      0.0   \n",
       "19968                     22050                 4  ...     0.0      0.0   \n",
       "19979                     22050                 4  ...     0.0      0.0   \n",
       "19985                     22050                 4  ...     0.0      0.0   \n",
       "19992                     22050                 4  ...     0.0      1.0   \n",
       "\n",
       "       c_who  c_will  c_with  c_would  c_y  c_yeah  c_you  c_your  \n",
       "0        1.0     0.0     0.0      0.0  0.0     0.0   32.0     6.0  \n",
       "2        2.0     1.0     4.0      1.0  0.0     0.0    6.0     3.0  \n",
       "3        0.0     0.0     0.0      0.0  2.0     0.0    0.0     0.0  \n",
       "10       0.0     0.0     1.0      0.0  0.0     0.0    1.0     1.0  \n",
       "20       0.0     2.0     2.0      0.0  0.0     2.0   10.0     3.0  \n",
       "...      ...     ...     ...      ...  ...     ...    ...     ...  \n",
       "19951    0.0     1.0     1.0      0.0  0.0     0.0    7.0    16.0  \n",
       "19968    0.0     7.0     0.0      0.0  0.0     0.0    2.0     2.0  \n",
       "19979    0.0     0.0     0.0      0.0  0.0     0.0    0.0     0.0  \n",
       "19985    0.0     0.0     0.0      0.0  0.0     1.0    8.0     1.0  \n",
       "19992    0.0     0.0     4.0      0.0  0.0     1.0    6.0     1.0  \n",
       "\n",
       "[3850 rows x 134 columns]"
      ]
     },
     "execution_count": 44,
     "metadata": {},
     "output_type": "execute_result"
    }
   ],
   "source": [
    "X[varc]"
   ]
  },
  {
   "cell_type": "code",
   "execution_count": 45,
   "metadata": {},
   "outputs": [],
   "source": [
    "sc_x = MinMaxScaler()\n",
    "joblib.dump(sc_x, 'scaler_min_max_clasificacion.pkl')\n",
    "\n",
    "X[varc] = sc_x.fit_transform(X[varc])"
   ]
  },
  {
   "cell_type": "code",
   "execution_count": 46,
   "metadata": {},
   "outputs": [],
   "source": [
    "X_train, X_test, y_train, y_test = train_test_split(X, y, train_size = 0.7)"
   ]
  },
  {
   "cell_type": "code",
   "execution_count": 47,
   "metadata": {},
   "outputs": [
    {
     "data": {
      "text/plain": [
       "['regresion_logistica_clasificacion.pkl']"
      ]
     },
     "execution_count": 47,
     "metadata": {},
     "output_type": "execute_result"
    }
   ],
   "source": [
    "lr = LogisticRegression()\n",
    "\n",
    "lr.fit(X_train, y_train)\n",
    "joblib.dump(lr, 'regresion_logistica_clasificacion.pkl')"
   ]
  },
  {
   "cell_type": "code",
   "execution_count": 48,
   "metadata": {},
   "outputs": [],
   "source": [
    "# predecir en test\n",
    "y_pred = lr.predict(X_test)\n"
   ]
  },
  {
   "cell_type": "code",
   "execution_count": 49,
   "metadata": {},
   "outputs": [],
   "source": [
    "ls_scores = cross_val_score(X=X_test, y=y_test, cv=4, n_jobs=2, estimator=lr, scoring=\"roc_auc\")"
   ]
  },
  {
   "cell_type": "code",
   "execution_count": 50,
   "metadata": {},
   "outputs": [
    {
     "data": {
      "text/plain": [
       "array([0.67189365, 0.61280521, 0.67851329, 0.69931824])"
      ]
     },
     "execution_count": 50,
     "metadata": {},
     "output_type": "execute_result"
    }
   ],
   "source": [
    "ls_scores"
   ]
  },
  {
   "cell_type": "code",
   "execution_count": 51,
   "metadata": {},
   "outputs": [
    {
     "data": {
      "text/plain": [
       "(0.66563259947315, 0.032134750981285945)"
      ]
     },
     "execution_count": 51,
     "metadata": {},
     "output_type": "execute_result"
    }
   ],
   "source": [
    "np.mean(ls_scores), np.std(ls_scores)"
   ]
  },
  {
   "cell_type": "code",
   "execution_count": null,
   "metadata": {},
   "outputs": [],
   "source": []
  },
  {
   "cell_type": "code",
   "execution_count": null,
   "metadata": {},
   "outputs": [],
   "source": []
  },
  {
   "cell_type": "code",
   "execution_count": null,
   "metadata": {},
   "outputs": [],
   "source": []
  },
  {
   "cell_type": "code",
   "execution_count": null,
   "metadata": {},
   "outputs": [],
   "source": []
  },
  {
   "cell_type": "markdown",
   "metadata": {},
   "source": [
    "## Resultados"
   ]
  },
  {
   "cell_type": "markdown",
   "metadata": {},
   "source": [
    "* "
   ]
  },
  {
   "cell_type": "code",
   "execution_count": null,
   "metadata": {},
   "outputs": [],
   "source": []
  }
 ],
 "metadata": {
  "kernelspec": {
   "display_name": "Python 3",
   "language": "python",
   "name": "python3"
  },
  "language_info": {
   "codemirror_mode": {
    "name": "ipython",
    "version": 3
   },
   "file_extension": ".py",
   "mimetype": "text/x-python",
   "name": "python",
   "nbconvert_exporter": "python",
   "pygments_lexer": "ipython3",
   "version": "3.10.12"
  }
 },
 "nbformat": 4,
 "nbformat_minor": 2
}
